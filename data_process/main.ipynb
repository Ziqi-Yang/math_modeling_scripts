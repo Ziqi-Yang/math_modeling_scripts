{
 "cells": [
  {
   "cell_type": "code",
   "execution_count": 88,
   "metadata": {},
   "outputs": [],
   "source": [
    "import pandas as pd"
   ]
  },
  {
   "cell_type": "code",
   "execution_count": 95,
   "metadata": {},
   "outputs": [
    {
     "name": "stdout",
     "output_type": "stream",
     "text": [
      "    LOCATION  TIME     Value\n",
      "0        AUS  2013  42.23634\n",
      "1        AUS  2014  47.64721\n",
      "2        AUS  2015  49.86091\n",
      "3        AUS  2016  47.43574\n",
      "4        AUS  2017  48.65071\n",
      "..       ...   ...       ...\n",
      "282     OAVG  2015  21.74623\n",
      "283     OAVG  2016  22.60335\n",
      "284     OAVG  2017  21.74929\n",
      "285     OAVG  2018  21.59494\n",
      "286      CRI  2013  40.58065\n",
      "\n",
      "[287 rows x 3 columns]\n",
      "    LOCATION  TIME      Value\n",
      "0        AUS  2013  15.273470\n",
      "1        AUS  2014  13.592840\n",
      "2        AUS  2015  12.318830\n",
      "3        AUS  2016  13.041210\n",
      "4        AUS  2017  15.185070\n",
      "..       ...   ...        ...\n",
      "279     OAVG  2015   8.442856\n",
      "280     OAVG  2016   8.638895\n",
      "281     OAVG  2017   8.566727\n",
      "282     OAVG  2018   8.501020\n",
      "283      CRI  2013   0.000000\n",
      "\n",
      "[284 rows x 3 columns]\n",
      "    LOCATION  TIME     Value\n",
      "0        HUN  1995  80.25735\n",
      "1        HUN  2000  76.67942\n",
      "2        HUN  2012  54.43539\n",
      "3        HUN  2013  61.18879\n",
      "4        HUN  2014  69.67638\n",
      "..       ...   ...       ...\n",
      "428      LTU  2014  74.34711\n",
      "429      LTU  2015  71.76677\n",
      "430      LTU  2016  66.31862\n",
      "431      LTU  2017  64.48744\n",
      "432      LTU  2018  66.09361\n",
      "\n",
      "[433 rows x 3 columns]\n",
      "    LOCATION  TIME     Value\n",
      "0        JPN  2005  67.75842\n",
      "1        JPN  2010  65.64867\n",
      "2        JPN  2011  68.34653\n",
      "3        JPN  2012  67.41874\n",
      "4        JPN  2013  65.47763\n",
      "..       ...   ...       ...\n",
      "425      LTU  2014  22.37867\n",
      "426      LTU  2015  25.01148\n",
      "427      LTU  2016  30.74705\n",
      "428      LTU  2017  29.99298\n",
      "429      LTU  2018  28.21417\n",
      "\n",
      "[430 rows x 3 columns]\n"
     ]
    }
   ],
   "source": [
    "df = pd.read_csv(r\"C:\\Users\\Zarkli\\Desktop\\math_modeling\\math_modeling_scripts\\data_process\\datas\\complex.csv\")\n",
    "for subject in df[\"SUBJECT\"].unique():\n",
    "    df_tmp = df[df[\"SUBJECT\"] == subject]\n",
    "    df_tmp = df_tmp.drop(columns=[\"SUBJECT\"]).reset_index(drop=True)\n",
    "    print(df_tmp)"
   ]
  }
 ],
 "metadata": {
  "interpreter": {
   "hash": "293bdf3ec75f111204fa16adce40ae542f4470629cedad22e8b5335cf5b00ec3"
  },
  "kernelspec": {
   "display_name": "Python 3.9.7 64-bit ('zarkli': conda)",
   "language": "python",
   "name": "python3"
  },
  "language_info": {
   "codemirror_mode": {
    "name": "ipython",
    "version": 3
   },
   "file_extension": ".py",
   "mimetype": "text/x-python",
   "name": "python",
   "nbconvert_exporter": "python",
   "pygments_lexer": "ipython3",
   "version": "3.9.7"
  },
  "orig_nbformat": 4
 },
 "nbformat": 4,
 "nbformat_minor": 2
}
