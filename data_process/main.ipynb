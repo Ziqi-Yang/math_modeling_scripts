{
 "cells": [
  {
   "cell_type": "code",
   "execution_count": 3,
   "metadata": {},
   "outputs": [],
   "source": [
    "import pandas as pd\n",
    "import pickle\n",
    "import sys\n",
    "import os"
   ]
  },
  {
   "cell_type": "code",
   "execution_count": 16,
   "metadata": {},
   "outputs": [
    {
     "data": {
      "text/plain": [
       "['c:\\\\Users\\\\Zarkli\\\\Desktop\\\\math_modeling\\\\math_modeling_scripts\\\\data_process\\\\datas\\\\DP_LIVE_21012022094327667.csv',\n",
       " 'c:\\\\Users\\\\Zarkli\\\\Desktop\\\\math_modeling\\\\math_modeling_scripts\\\\data_process\\\\datas\\\\Kaggle Notebooks Ranking.csv',\n",
       " 'c:\\\\Users\\\\Zarkli\\\\Desktop\\\\math_modeling\\\\math_modeling_scripts\\\\data_process\\\\datas\\\\population_total.csv',\n",
       " 'c:\\\\Users\\\\Zarkli\\\\Desktop\\\\math_modeling\\\\math_modeling_scripts\\\\data_process\\\\datas\\\\总生育率-女性.csv']"
      ]
     },
     "execution_count": 16,
     "metadata": {},
     "output_type": "execute_result"
    }
   ],
   "source": [
    "rootPath = sys.path[0]\n",
    "dataFolder = os.path.join(rootPath,\"datas\")\n",
    "resultFolder = os.path.join(rootPath,\"res\")\n",
    "\n",
    "dataFiles = list(map(lambda x: os.path.join(dataFolder,x),))\n",
    "# dataFileTypeFunc ={\"Expand\":}\n",
    "dataFiles"
   ]
  },
  {
   "cell_type": "code",
   "execution_count": 5,
   "metadata": {},
   "outputs": [],
   "source": [
    "# def processData(filePath:str,type=\"auto\"):\n",
    "#     global resultFolder"
   ]
  },
  {
   "cell_type": "code",
   "execution_count": 6,
   "metadata": {},
   "outputs": [],
   "source": [
    "# def detectDataFileType(df: pd.DataFrame):\n",
    "#     df."
   ]
  },
  {
   "cell_type": "code",
   "execution_count": 17,
   "metadata": {},
   "outputs": [
    {
     "ename": "IndexError",
     "evalue": "list index out of range",
     "output_type": "error",
     "traceback": [
      "\u001b[1;31m---------------------------------------------------------------------------\u001b[0m",
      "\u001b[1;31mIndexError\u001b[0m                                Traceback (most recent call last)",
      "\u001b[1;32m~\\AppData\\Local\\Temp/ipykernel_1568/3575960599.py\u001b[0m in \u001b[0;36m<module>\u001b[1;34m\u001b[0m\n\u001b[1;32m----> 1\u001b[1;33m \u001b[0mdf\u001b[0m \u001b[1;33m=\u001b[0m \u001b[0mpd\u001b[0m\u001b[1;33m.\u001b[0m\u001b[0mread_csv\u001b[0m\u001b[1;33m(\u001b[0m\u001b[0mdataFiles\u001b[0m\u001b[1;33m[\u001b[0m\u001b[1;36m4\u001b[0m\u001b[1;33m]\u001b[0m\u001b[1;33m)\u001b[0m\u001b[1;33m\u001b[0m\u001b[1;33m\u001b[0m\u001b[0m\n\u001b[0m\u001b[0;32m      2\u001b[0m \u001b[0misYear\u001b[0m \u001b[1;33m=\u001b[0m \u001b[1;32mlambda\u001b[0m \u001b[0ms\u001b[0m\u001b[1;33m:\u001b[0m \u001b[0mall\u001b[0m\u001b[1;33m(\u001b[0m\u001b[0mmap\u001b[0m\u001b[1;33m(\u001b[0m\u001b[1;32mlambda\u001b[0m \u001b[0mx\u001b[0m\u001b[1;33m:\u001b[0m \u001b[0mx\u001b[0m\u001b[1;33m>=\u001b[0m\u001b[1;34m\"0\"\u001b[0m \u001b[1;32mand\u001b[0m \u001b[0mx\u001b[0m \u001b[1;33m<=\u001b[0m\u001b[1;34m\"9\"\u001b[0m \u001b[1;33m,\u001b[0m\u001b[0ms\u001b[0m\u001b[1;33m)\u001b[0m\u001b[1;33m)\u001b[0m \u001b[1;32mif\u001b[0m \u001b[0misinstance\u001b[0m\u001b[1;33m(\u001b[0m\u001b[0ms\u001b[0m\u001b[1;33m,\u001b[0m\u001b[0mstr\u001b[0m\u001b[1;33m)\u001b[0m \u001b[1;32melse\u001b[0m \u001b[1;32mTrue\u001b[0m \u001b[1;32mif\u001b[0m \u001b[0misinstance\u001b[0m\u001b[1;33m(\u001b[0m\u001b[0ms\u001b[0m\u001b[1;33m,\u001b[0m\u001b[0mint\u001b[0m\u001b[1;33m)\u001b[0m \u001b[1;32melse\u001b[0m \u001b[1;32mFalse\u001b[0m\u001b[1;33m\u001b[0m\u001b[1;33m\u001b[0m\u001b[0m\n\u001b[0;32m      3\u001b[0m \u001b[1;33m\u001b[0m\u001b[0m\n\u001b[0;32m      4\u001b[0m \u001b[1;31m# dataFileType = \"YearExpand\" if sum(map(isYear,df.columns)) > 5 else\u001b[0m\u001b[1;33m\u001b[0m\u001b[1;33m\u001b[0m\u001b[0m\n",
      "\u001b[1;31mIndexError\u001b[0m: list index out of range"
     ]
    }
   ],
   "source": [
    "df = pd.read_csv(dataFiles[4])\n",
    "isYear = lambda s: all(map(lambda x: x>=\"0\" and x <=\"9\" ,s)) if isinstance(s,str) else True if isinstance(s,int) else False\n",
    "\n",
    "# dataFileType = \"YearExpand\" if sum(map(isYear,df.columns)) > 5 else\n"
   ]
  }
 ],
 "metadata": {
  "interpreter": {
   "hash": "293bdf3ec75f111204fa16adce40ae542f4470629cedad22e8b5335cf5b00ec3"
  },
  "kernelspec": {
   "display_name": "Python 3.9.7 64-bit ('zarkli': conda)",
   "language": "python",
   "name": "python3"
  },
  "language_info": {
   "codemirror_mode": {
    "name": "ipython",
    "version": 3
   },
   "file_extension": ".py",
   "mimetype": "text/x-python",
   "name": "python",
   "nbconvert_exporter": "python",
   "pygments_lexer": "ipython3",
   "version": "3.9.7"
  },
  "orig_nbformat": 4
 },
 "nbformat": 4,
 "nbformat_minor": 2
}
