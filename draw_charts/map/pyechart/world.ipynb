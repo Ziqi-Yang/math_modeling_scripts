{
 "cells": [
  {
   "cell_type": "markdown",
   "metadata": {},
   "source": [
    "## 世界级别"
   ]
  },
  {
   "cell_type": "code",
   "execution_count": 1,
   "metadata": {},
   "outputs": [],
   "source": [
    "from pyecharts import options as opts\n",
    "from pyecharts.charts import Map\n",
    "from pyecharts.render import make_snapshot\n",
    "from snapshot_selenium import snapshot\n",
    "import pandas as pd\n",
    "import pickle\n",
    "\n",
    "# pyechart map 官方参考文档\n",
    "# demo: https://gallery.pyecharts.org/#/Map/map_base\n",
    "# api\n",
    "# 全局配置项: https://pyecharts.org/#/zh-cn/global_options?id=animationopts%ef%bc%9aecharts-%e7%94%bb%e5%9b%be%e5%8a%a8%e7%94%bb%e9%85%8d%e7%bd%ae%e9%a1%b9\n",
    "# 地图: https://pyecharts.org/#/zh-cn/geography_charts?id=map%ef%bc%9a%e5%9c%b0%e5%9b%be"
   ]
  },
  {
   "cell_type": "code",
   "execution_count": 2,
   "metadata": {},
   "outputs": [],
   "source": [
    "# 在这里更改\n",
    "df = pd.read_csv(\"data.csv\")\n",
    "countries = list(df[\"Country\"])\n",
    "value = list(df[\"mean\"])\n",
    "title = \"Map\""
   ]
  },
  {
   "cell_type": "code",
   "execution_count": 3,
   "metadata": {},
   "outputs": [],
   "source": [
    "maxValue = max(value) # 设置左侧的visualMapOps 视觉映射配置项 需要, 不然value不在默认范围内就不会上色,太不人性化了，爱\n",
    "minValue = min(value)\n",
    "\n",
    "filename = \"map\"\n",
    "html_filename = filename + \".html\"\n",
    "image_filename = filename + \".png\"\n",
    "\n",
    "# load country_code_dict\n",
    "with open(\"./country_code_dict.pkl\",\"rb\") as f:\n",
    "    country_code_dict = pickle.load(f)"
   ]
  },
  {
   "cell_type": "code",
   "execution_count": 4,
   "metadata": {},
   "outputs": [],
   "source": [
    "c = (\n",
    "    Map(init_opts=opts.InitOpts(page_title=title))\n",
    "    .add(None,[list(z) for z in zip(countries,value)], \"world\",name_map=country_code_dict,is_map_symbol_show=False)\n",
    "    .set_series_opts(label_opts=opts.LabelOpts(is_show=False))\n",
    "    .set_global_opts(\n",
    "        title_opts=opts.TitleOpts(title=title,pos_left=\"center\"),\n",
    "        visualmap_opts=opts.VisualMapOpts(min_=minValue,max_=maxValue,is_piecewise=True),\n",
    "    )\n",
    "    .render(html_filename)\n",
    ")\n",
    "\n",
    "# 保存图片\n",
    "make_snapshot(snapshot,c,output_name=image_filename)"
   ]
  }
 ],
 "metadata": {
  "interpreter": {
   "hash": "293bdf3ec75f111204fa16adce40ae542f4470629cedad22e8b5335cf5b00ec3"
  },
  "kernelspec": {
   "display_name": "Python 3.9.7 64-bit ('zarkli': conda)",
   "language": "python",
   "name": "python3"
  },
  "language_info": {
   "codemirror_mode": {
    "name": "ipython",
    "version": 3
   },
   "file_extension": ".py",
   "mimetype": "text/x-python",
   "name": "python",
   "nbconvert_exporter": "python",
   "pygments_lexer": "ipython3",
   "version": "3.9.7"
  },
  "orig_nbformat": 4
 },
 "nbformat": 4,
 "nbformat_minor": 2
}
