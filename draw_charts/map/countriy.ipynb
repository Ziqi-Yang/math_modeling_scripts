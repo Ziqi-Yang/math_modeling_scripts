{
 "cells": [
  {
   "cell_type": "markdown",
   "metadata": {},
   "source": [
    "## 国家级别"
   ]
  },
  {
   "cell_type": "markdown",
   "metadata": {},
   "source": [
    "参考:\n",
    "- https://www.jianshu.com/p/ae803059195b\n",
    "- https://gallery.pyecharts.org/#/Geo/geo_chart_countries_js\n",
    "- https://gallery.pyecharts.org/#/Geo/geo_heatmap\n",
    "\n",
    "注意在取得了地图框架(`register_url`)之后，要添加城市的坐标点,还是得`add_coordinate`或则`add_coordinate_json`"
   ]
  },
  {
   "cell_type": "markdown",
   "metadata": {},
   "source": [
    "### 示例代码"
   ]
  },
  {
   "cell_type": "code",
   "execution_count": 19,
   "metadata": {},
   "outputs": [],
   "source": [
    "from pyecharts.charts import Geo\n",
    "from pyecharts.datasets import register_url\n",
    "# 绘制美国地区销量分布图\n",
    "def draw_usa_map1():\n",
    "    try:\n",
    "        register_url(\"https://echarts-maps.github.io/echarts-countries-js/\")\n",
    "    except Exception:\n",
    "        import ssl\n",
    "        ssl._create_default_https_context = ssl._create_unverified_context\n",
    "        register_url(\"https://echarts-maps.github.io/echarts-countries-js/\")\n",
    "    \n",
    "    df21 = pd.read_excel('D:/test.xlsx',sheet_name='prod1',header = 0)\n",
    "    states1 = df21['state'].tolist()                                # pandas转list\n",
    "    sales21 = df21['sale'].tolist()\n",
    "    list21 = [[states1[i],sales21[i]] for i in range(len(states1))]  # 合并两个list为一个list\n",
    "    maxsales2 = max(sales21)                                         # 计算最大销量值，用作图例的上限\n",
    "\n",
    "    geo = (                                                          # 添加坐标点\n",
    "        Geo(init_opts=opts.InitOpts(width = \"1200px\", height = \"600px\", bg_color = '#EEEEE8'))\n",
    "        .add_schema(maptype=\"美国\",itemstyle_opts=opts.ItemStyleOpts(color=\"#323c48\", border_color=\"#111\"))\n",
    "        .add_coordinate('WA',-120.04,47.56)\n",
    "        .add_coordinate('OR',-120.37,43.77)\n",
    "        .add_coordinate('CA',-120.44,36.44)\n",
    "        .add_coordinate('AK',-122.00,28.46)\n",
    "        .add_coordinate('ID',-114.08,43.80)\n",
    "        .add_coordinate('NV',-116.44,39.61)\n",
    "        .add_coordinate('MT',-109.42,47.13)\n",
    "        .add_coordinate('WY',-107.29,42.96)\n",
    "        .add_coordinate('UT',-111.19,39.35)\n",
    "        .add_coordinate('AZ',-111.70,34.45)\n",
    "        .add_coordinate('HI',-105.25,28.72)\n",
    "        .add_coordinate('CO',-105.52,38.89)\n",
    "        .add_coordinate('NM',-106.11,34.45)\n",
    "        .add_coordinate('ND',-100.22,47.53)\n",
    "        .add_coordinate('SD',-100.52,44.72)\n",
    "        .add_coordinate('NE',-99.64,41.65)\n",
    "        .add_coordinate('KS',-98.53,38.43)\n",
    "        .add_coordinate('OK',-97.13,35.42)\n",
    "        .add_coordinate('TX',-98.16,31.03)\n",
    "        .add_coordinate('MN',-94.26,46.02)\n",
    "        .add_coordinate('IA',-93.60,42.09)\n",
    "        .add_coordinate('MO',-92.57,38.48)\n",
    "        .add_coordinate('AR',-92.43,34.69)\n",
    "        .add_coordinate('LA',-92.49,31.22)\n",
    "        .add_coordinate('WI',-89.55,44.25)\n",
    "        .add_coordinate('MI',-84.62,43.98)\n",
    "        .add_coordinate('IL',-89.11,40.20)\n",
    "        .add_coordinate('IN',-86.17,40.08)\n",
    "        .add_coordinate('OH',-82.71,40.31)\n",
    "        .add_coordinate('KY',-84.92,37.44)\n",
    "        .add_coordinate('TN',-86.32,35.78)\n",
    "        .add_coordinate('MS',-89.63,32.66)\n",
    "        .add_coordinate('AL',-86.68,32.53)\n",
    "        .add_coordinate('FL',-81.68,28.07)\n",
    "        .add_coordinate('GA',-83.22,32.59)\n",
    "        .add_coordinate('SC',-80.65,33.78)\n",
    "        .add_coordinate('NC',-78.88,35.48)\n",
    "        .add_coordinate('VA',-78.24,37.48)\n",
    "        .add_coordinate('WV',-80.63,38.62)\n",
    "        .add_coordinate('PA',-77.57,40.78)\n",
    "        .add_coordinate('NY',-75.22,43.06)\n",
    "        .add_coordinate('MD',-76.29,39.09)\n",
    "        .add_coordinate('DE',-75.55,39.09)\n",
    "        .add_coordinate('NJ',-74.47,40.03)\n",
    "        .add_coordinate('VT',-72.70,44.13)\n",
    "        .add_coordinate('NH',-71.64,43.59)\n",
    "        .add_coordinate('MA',-72.09,42.33)\n",
    "        .add_coordinate('CT',-72.63,41.67)\n",
    "        .add_coordinate('RI',-71.49,41.64)\n",
    "        .add_coordinate('ME',-69.06,45.16)\n",
    "        .add_coordinate('PR',-75.37,26.42)\n",
    "        .add_coordinate('DC',-77.04,38.90)\n",
    "        .add(\"product1\", list21, type_=ChartType.EFFECT_SCATTER)\n",
    "        .set_global_opts(\n",
    "            title_opts=opts.TitleOpts(title=\"product1销量分布图\"),\n",
    "            visualmap_opts=opts.VisualMapOpts(max_ = maxsales2,is_piecewise=True),\n",
    "        )\n",
    "        .render(\"D:/prod1.html\")\n",
    "    )"
   ]
  }
 ],
 "metadata": {
  "interpreter": {
   "hash": "293bdf3ec75f111204fa16adce40ae542f4470629cedad22e8b5335cf5b00ec3"
  },
  "kernelspec": {
   "display_name": "Python 3.9.7 64-bit ('zarkli': conda)",
   "language": "python",
   "name": "python3"
  },
  "language_info": {
   "codemirror_mode": {
    "name": "ipython",
    "version": 3
   },
   "file_extension": ".py",
   "mimetype": "text/x-python",
   "name": "python",
   "nbconvert_exporter": "python",
   "pygments_lexer": "ipython3",
   "version": "3.9.7"
  },
  "orig_nbformat": 4
 },
 "nbformat": 4,
 "nbformat_minor": 2
}
