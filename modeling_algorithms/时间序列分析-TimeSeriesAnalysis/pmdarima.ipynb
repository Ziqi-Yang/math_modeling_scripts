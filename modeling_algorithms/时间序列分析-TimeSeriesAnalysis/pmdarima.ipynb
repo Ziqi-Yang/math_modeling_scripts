{
 "cells": [
  {
   "cell_type": "markdown",
   "metadata": {},
   "source": [
    "# 使用`pmdarima`自动进行`ARIMA`时间序列分析\n",
    "\n",
    "以年份为例"
   ]
  },
  {
   "cell_type": "code",
   "execution_count": 2,
   "metadata": {},
   "outputs": [],
   "source": [
    "import numpy as np\n",
    "import pandas as pd\n",
    "import pmdarima as pm\n",
    "\n",
    "import matplotlib.pyplot as plt\n",
    "import seaborn as sns\n",
    "sns.set_theme()"
   ]
  },
  {
   "cell_type": "markdown",
   "metadata": {},
   "source": [
    "## 加载数据\n",
    "\n",
    "大致的数据分析可以看看`plotMovingAverage.ipynb`"
   ]
  },
  {
   "cell_type": "code",
   "execution_count": 3,
   "metadata": {},
   "outputs": [
    {
     "data": {
      "text/html": [
       "<div>\n",
       "<style scoped>\n",
       "    .dataframe tbody tr th:only-of-type {\n",
       "        vertical-align: middle;\n",
       "    }\n",
       "\n",
       "    .dataframe tbody tr th {\n",
       "        vertical-align: top;\n",
       "    }\n",
       "\n",
       "    .dataframe thead th {\n",
       "        text-align: right;\n",
       "    }\n",
       "</style>\n",
       "<table border=\"1\" class=\"dataframe\">\n",
       "  <thead>\n",
       "    <tr style=\"text-align: right;\">\n",
       "      <th></th>\n",
       "      <th>Year</th>\n",
       "      <th>Value</th>\n",
       "    </tr>\n",
       "  </thead>\n",
       "  <tbody>\n",
       "    <tr>\n",
       "      <th>0</th>\n",
       "      <td>1995</td>\n",
       "      <td>99.40405</td>\n",
       "    </tr>\n",
       "    <tr>\n",
       "      <th>1</th>\n",
       "      <td>2000</td>\n",
       "      <td>97.61373</td>\n",
       "    </tr>\n",
       "    <tr>\n",
       "      <th>2</th>\n",
       "      <td>2005</td>\n",
       "      <td>96.70573</td>\n",
       "    </tr>\n",
       "    <tr>\n",
       "      <th>3</th>\n",
       "      <td>2008</td>\n",
       "      <td>93.34492</td>\n",
       "    </tr>\n",
       "    <tr>\n",
       "      <th>4</th>\n",
       "      <td>2009</td>\n",
       "      <td>92.97375</td>\n",
       "    </tr>\n",
       "  </tbody>\n",
       "</table>\n",
       "</div>"
      ],
      "text/plain": [
       "   Year     Value\n",
       "0  1995  99.40405\n",
       "1  2000  97.61373\n",
       "2  2005  96.70573\n",
       "3  2008  93.34492\n",
       "4  2009  92.97375"
      ]
     },
     "execution_count": 3,
     "metadata": {},
     "output_type": "execute_result"
    }
   ],
   "source": [
    "df = pd.read_csv(\"./data/complex-PUB-expand.csv\")\n",
    "df = df[df[\"Country\"] == \"DNK\"]\n",
    "df = pd.melt(df,id_vars=[\"Country\"],var_name=\"Year\",value_name=\"Value\") # 列转行\n",
    "# df[\"Year\"] = df[\"Year\"].astype(\"datetime64[ns]\")\n",
    "df = df.drop(columns=[\"Country\"])\n",
    "df.head()"
   ]
  },
  {
   "cell_type": "markdown",
   "metadata": {},
   "source": [
    "## 根据时间段补全时间段"
   ]
  },
  {
   "cell_type": "code",
   "execution_count": 4,
   "metadata": {},
   "outputs": [
    {
     "data": {
      "text/html": [
       "<div>\n",
       "<style scoped>\n",
       "    .dataframe tbody tr th:only-of-type {\n",
       "        vertical-align: middle;\n",
       "    }\n",
       "\n",
       "    .dataframe tbody tr th {\n",
       "        vertical-align: top;\n",
       "    }\n",
       "\n",
       "    .dataframe thead th {\n",
       "        text-align: right;\n",
       "    }\n",
       "</style>\n",
       "<table border=\"1\" class=\"dataframe\">\n",
       "  <thead>\n",
       "    <tr style=\"text-align: right;\">\n",
       "      <th></th>\n",
       "      <th>Year</th>\n",
       "      <th>Values</th>\n",
       "    </tr>\n",
       "  </thead>\n",
       "  <tbody>\n",
       "    <tr>\n",
       "      <th>0</th>\n",
       "      <td>2007-01-01</td>\n",
       "      <td>NaN</td>\n",
       "    </tr>\n",
       "    <tr>\n",
       "      <th>1</th>\n",
       "      <td>2008-01-01</td>\n",
       "      <td>93.34492</td>\n",
       "    </tr>\n",
       "    <tr>\n",
       "      <th>2</th>\n",
       "      <td>2009-01-01</td>\n",
       "      <td>92.97375</td>\n",
       "    </tr>\n",
       "    <tr>\n",
       "      <th>3</th>\n",
       "      <td>2010-01-01</td>\n",
       "      <td>92.26746</td>\n",
       "    </tr>\n",
       "    <tr>\n",
       "      <th>4</th>\n",
       "      <td>2011-01-01</td>\n",
       "      <td>91.78908</td>\n",
       "    </tr>\n",
       "    <tr>\n",
       "      <th>5</th>\n",
       "      <td>2012-01-01</td>\n",
       "      <td>NaN</td>\n",
       "    </tr>\n",
       "    <tr>\n",
       "      <th>6</th>\n",
       "      <td>2013-01-01</td>\n",
       "      <td>90.29342</td>\n",
       "    </tr>\n",
       "    <tr>\n",
       "      <th>7</th>\n",
       "      <td>2014-01-01</td>\n",
       "      <td>92.34969</td>\n",
       "    </tr>\n",
       "    <tr>\n",
       "      <th>8</th>\n",
       "      <td>2015-01-01</td>\n",
       "      <td>NaN</td>\n",
       "    </tr>\n",
       "    <tr>\n",
       "      <th>9</th>\n",
       "      <td>2016-01-01</td>\n",
       "      <td>86.21557</td>\n",
       "    </tr>\n",
       "    <tr>\n",
       "      <th>10</th>\n",
       "      <td>2017-01-01</td>\n",
       "      <td>83.15323</td>\n",
       "    </tr>\n",
       "    <tr>\n",
       "      <th>11</th>\n",
       "      <td>2018-01-01</td>\n",
       "      <td>81.97565</td>\n",
       "    </tr>\n",
       "  </tbody>\n",
       "</table>\n",
       "</div>"
      ],
      "text/plain": [
       "         Year    Values\n",
       "0  2007-01-01       NaN\n",
       "1  2008-01-01  93.34492\n",
       "2  2009-01-01  92.97375\n",
       "3  2010-01-01  92.26746\n",
       "4  2011-01-01  91.78908\n",
       "5  2012-01-01       NaN\n",
       "6  2013-01-01  90.29342\n",
       "7  2014-01-01  92.34969\n",
       "8  2015-01-01       NaN\n",
       "9  2016-01-01  86.21557\n",
       "10 2017-01-01  83.15323\n",
       "11 2018-01-01  81.97565"
      ]
     },
     "execution_count": 4,
     "metadata": {},
     "output_type": "execute_result"
    }
   ],
   "source": [
    "# 补全时间数据\n",
    "startYear = 2007\n",
    "endYear = 2018 # 不要超过Years[-1]\n",
    "\n",
    "Years = list(map(int,df[\"Year\"])) # 升序\n",
    "Values = list(df[\"Value\"])\n",
    "YearsCopy = Years.copy()\n",
    "Years = [year for year in Years if year >= startYear and year <= endYear]\n",
    "Values = [Values[YearsCopy.index(year)] for year in Years]\n",
    "intervals = endYear - startYear + 1\n",
    "\n",
    "\n",
    "Years.extend([0 for _ in range(intervals - len(Years))]) # 方便后续插入\n",
    "Values.extend([0 for _ in range(intervals - len(Values))])\n",
    "\n",
    "YEARS = [year for year in range(startYear,endYear+1)] # 注意df中year的类型转化为了int\n",
    "miss = [year for year in YEARS if year not in Years]\n",
    "for misYear in miss: # 插入缺失年份\n",
    "    i  = 0 \n",
    "    while misYear >= Years[i]:\n",
    "        i += 1\n",
    "    for j in range(len(Years)-2,i-1,-1):\n",
    "        Years[j+1] = Years[j]\n",
    "        Values[j+1] = Values[j]\n",
    "    Years[i] = misYear\n",
    "    Values[i] = np.nan\n",
    "tsData = pd.DataFrame(dict(Year=Years,Values=Values))\n",
    "tsData[\"Year\"] = tsData[\"Year\"].map(str) # 要先转化为字符串才能接下来正确转化为时间\n",
    "tsData[\"Year\"] = pd.to_datetime(tsData[\"Year\"])\n",
    "tsData"
   ]
  },
  {
   "cell_type": "markdown",
   "metadata": {},
   "source": [
    "## 补全缺失值"
   ]
  },
  {
   "cell_type": "code",
   "execution_count": 5,
   "metadata": {},
   "outputs": [
    {
     "data": {
      "text/html": [
       "<div>\n",
       "<style scoped>\n",
       "    .dataframe tbody tr th:only-of-type {\n",
       "        vertical-align: middle;\n",
       "    }\n",
       "\n",
       "    .dataframe tbody tr th {\n",
       "        vertical-align: top;\n",
       "    }\n",
       "\n",
       "    .dataframe thead th {\n",
       "        text-align: right;\n",
       "    }\n",
       "</style>\n",
       "<table border=\"1\" class=\"dataframe\">\n",
       "  <thead>\n",
       "    <tr style=\"text-align: right;\">\n",
       "      <th></th>\n",
       "      <th>Values</th>\n",
       "    </tr>\n",
       "    <tr>\n",
       "      <th>Year</th>\n",
       "      <th></th>\n",
       "    </tr>\n",
       "  </thead>\n",
       "  <tbody>\n",
       "    <tr>\n",
       "      <th>2008-01-01</th>\n",
       "      <td>93.34492</td>\n",
       "    </tr>\n",
       "    <tr>\n",
       "      <th>2009-01-01</th>\n",
       "      <td>92.97375</td>\n",
       "    </tr>\n",
       "    <tr>\n",
       "      <th>2010-01-01</th>\n",
       "      <td>92.26746</td>\n",
       "    </tr>\n",
       "    <tr>\n",
       "      <th>2011-01-01</th>\n",
       "      <td>91.78908</td>\n",
       "    </tr>\n",
       "    <tr>\n",
       "      <th>2013-01-01</th>\n",
       "      <td>90.29342</td>\n",
       "    </tr>\n",
       "    <tr>\n",
       "      <th>2014-01-01</th>\n",
       "      <td>92.34969</td>\n",
       "    </tr>\n",
       "    <tr>\n",
       "      <th>2016-01-01</th>\n",
       "      <td>86.21557</td>\n",
       "    </tr>\n",
       "    <tr>\n",
       "      <th>2017-01-01</th>\n",
       "      <td>83.15323</td>\n",
       "    </tr>\n",
       "    <tr>\n",
       "      <th>2018-01-01</th>\n",
       "      <td>81.97565</td>\n",
       "    </tr>\n",
       "  </tbody>\n",
       "</table>\n",
       "</div>"
      ],
      "text/plain": [
       "              Values\n",
       "Year                \n",
       "2008-01-01  93.34492\n",
       "2009-01-01  92.97375\n",
       "2010-01-01  92.26746\n",
       "2011-01-01  91.78908\n",
       "2013-01-01  90.29342\n",
       "2014-01-01  92.34969\n",
       "2016-01-01  86.21557\n",
       "2017-01-01  83.15323\n",
       "2018-01-01  81.97565"
      ]
     },
     "execution_count": 5,
     "metadata": {},
     "output_type": "execute_result"
    }
   ],
   "source": [
    "tsData = tsData.set_index(\"Year\")\n",
    "tsData.interpolate(method=\"time\")\n",
    "tsData = tsData.dropna() # 去掉开头的空值\n",
    "tsData"
   ]
  },
  {
   "cell_type": "code",
   "execution_count": 6,
   "metadata": {},
   "outputs": [
    {
     "name": "stdout",
     "output_type": "stream",
     "text": [
      "                               SARIMAX Results                                \n",
      "==============================================================================\n",
      "Dep. Variable:                      y   No. Observations:                    9\n",
      "Model:               SARIMAX(1, 0, 0)   Log Likelihood                 -21.927\n",
      "Date:                Mon, 14 Feb 2022   AIC                             49.853\n",
      "Time:                        20:10:35   BIC                             50.445\n",
      "Sample:                             0   HQIC                            48.576\n",
      "                                  - 9                                         \n",
      "Covariance Type:                  opg                                         \n",
      "==============================================================================\n",
      "                 coef    std err          z      P>|z|      [0.025      0.975]\n",
      "------------------------------------------------------------------------------\n",
      "intercept     10.6296     31.999      0.332      0.740     -52.087      73.346\n",
      "ar.L1          0.8798      0.363      2.421      0.015       0.168       1.592\n",
      "sigma2         6.4245      4.689      1.370      0.171      -2.765      15.615\n",
      "===================================================================================\n",
      "Ljung-Box (L1) (Q):                   0.04   Jarque-Bera (JB):                 0.53\n",
      "Prob(Q):                              0.84   Prob(JB):                         0.77\n",
      "Heteroskedasticity (H):               8.54   Skew:                            -0.55\n",
      "Prob(H) (two-sided):                  0.11   Kurtosis:                         2.57\n",
      "===================================================================================\n",
      "\n",
      "Warnings:\n",
      "[1] Covariance matrix calculated using the outer product of gradients (complex-step).\n"
     ]
    }
   ],
   "source": [
    "arima = pm.auto_arima(tsData[\"Values\"]) # 如果有时间周期,可以设置m值，变为SARIMA模型(如是小时数据，设置m=24)\n",
    "print(arima.summary())"
   ]
  },
  {
   "cell_type": "markdown",
   "metadata": {},
   "source": [
    "## 预测数据"
   ]
  },
  {
   "cell_type": "code",
   "execution_count": 14,
   "metadata": {},
   "outputs": [
    {
     "data": {
      "text/plain": [
       "[<matplotlib.lines.Line2D at 0x2597bb026a0>]"
      ]
     },
     "execution_count": 14,
     "metadata": {},
     "output_type": "execute_result"
    },
    {
     "data": {
      "image/png": "[encoded data removed]",
      "text/plain": [
       "<Figure size 864x432 with 1 Axes>"
      ]
     },
     "metadata": {},
     "output_type": "display_data"
    }
   ],
   "source": [
    "prLen = 5 # 以预测5年为例\n",
    "# 这里不用datetime.timedelta是因为不支持加年\n",
    "startYear = tsData.index[-1].year + 1\n",
    "endYear = startYear + prLen - 1# 其实endYear本来就是这个值\n",
    "prYears = [year for year in range(startYear,endYear + 1)]\n",
    "predictVal = arima.predict(prLen)\n",
    "\n",
    "pred = pd.DataFrame(dict(Year=prYears,Values=predictVal))\n",
    "pred[\"Year\"] = pred[\"Year\"].map(str) # 要先转化为字符串才能接下来正确转化为时间\n",
    "pred[\"Year\"] = pd.to_datetime(pred[\"Year\"])\n",
    "pred = pred.set_index(\"Year\")\n",
    "\n",
    "plt.figure(figsize=(12,6))\n",
    "plt.plot(tsData[\"Values\"])\n",
    "plt.plot(pred[\"Values\"])"
   ]
  }
 ],
 "metadata": {
  "interpreter": {
   "hash": "d31ccd0acf803e8ab12412f69f31d0bd360d3fc13ddfb6b01ba2d3f9fbf44194"
  },
  "kernelspec": {
   "display_name": "Python 3.9.7 ('base')",
   "language": "python",
   "name": "python3"
  },
  "language_info": {
   "codemirror_mode": {
    "name": "ipython",
    "version": 3
   },
   "file_extension": ".py",
   "mimetype": "text/x-python",
   "name": "python",
   "nbconvert_exporter": "python",
   "pygments_lexer": "ipython3",
   "version": "3.9.7"
  },
  "orig_nbformat": 4
 },
 "nbformat": 4,
 "nbformat_minor": 2
}
