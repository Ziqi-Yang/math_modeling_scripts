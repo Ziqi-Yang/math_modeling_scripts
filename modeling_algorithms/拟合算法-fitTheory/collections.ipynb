{
 "cells": [
  {
   "cell_type": "markdown",
   "metadata": {},
   "source": [
    "# 前言\n",
    "\n",
    "收录了两种算法，一种用`numpy`进行的`多项式拟合`,一种用`scipy`进行`自定义函数拟合`"
   ]
  },
  {
   "cell_type": "code",
   "execution_count": 3,
   "metadata": {},
   "outputs": [],
   "source": [
    "import matplotlib.pyplot as plt\n",
    "import numpy as np"
   ]
  },
  {
   "cell_type": "markdown",
   "metadata": {},
   "source": [
    "## 多项式拟合\n",
    "\n",
    "```python\n",
    "from numpy.polynomial import Polynomial\n",
    "cruve = Polynomial.fit(x,y,polynomial_dim) # polynormal_dim 指的是拟合多项式的次数，数字即可\n",
    "print(cruve) # 得到函数表达式\n",
    "cruve(2022) # 预测 x==2022 时的y值\n",
    "```\n",
    "\n",
    "## 自定义函数拟合\n",
    "\n",
    "```python\n",
    "\n",
    "```"
   ]
  },
  {
   "cell_type": "code",
   "execution_count": 7,
   "metadata": {},
   "outputs": [
    {
     "name": "stdout",
     "output_type": "stream",
     "text": [
      "[3.46732103 1.85208115 1.31038659 0.59907145]\n",
      "\n",
      "[[ 0.10339154 -0.0296956   0.01062989 -0.03337131]\n",
      " [-0.0296956   0.00883842 -0.00288068  0.00904359]\n",
      " [ 0.01062989 -0.00288068  0.00167593 -0.0052613 ]\n",
      " [-0.03337131  0.00904359 -0.0052613   0.01676883]]\n",
      "\n"
     ]
    },
    {
     "data": {
      "image/png": "[encoded data removed]",
      "text/plain": [
       "<Figure size 432x288 with 1 Axes>"
      ]
     },
     "metadata": {
      "needs_background": "light"
     },
     "output_type": "display_data"
    }
   ],
   "source": [
    "def function(x, a , b, f, phi):\n",
    "    \"\"\"a function of x with four parameters\"\"\"\n",
    "    result = a * np.exp(-b * np.sin(f * x + phi))\n",
    "    return result\n",
    "\n",
    "from scipy.optimize import curve_fit\n",
    "from scipy.stats import norm\n",
    "\n",
    "x = np.linspace(0, 2 * np.pi, 50)\n",
    "actual_parameters = [3, 2, 1.25, np.pi / 4]\n",
    "y = function(x, *actual_parameters)\n",
    "y_noisy = y + 0.8 * norm.rvs(size=len(x))\n",
    "p_est, err_est = curve_fit(function, x, y_noisy)\n",
    "\n",
    "print(p_est) # 返回函数参数\n",
    "print()\n",
    "print(err_est) # 返回函数协方差矩阵\n",
    "print()\n",
    "p = plt.plot(x, y_noisy, \"rx\")\n",
    "p = plt.plot(x, function(x, *p_est), \"k--\")"
   ]
  }
 ],
 "metadata": {
  "interpreter": {
   "hash": "293bdf3ec75f111204fa16adce40ae542f4470629cedad22e8b5335cf5b00ec3"
  },
  "kernelspec": {
   "display_name": "Python 3.9.7 64-bit ('zarkli': conda)",
   "language": "python",
   "name": "python3"
  },
  "language_info": {
   "codemirror_mode": {
    "name": "ipython",
    "version": 3
   },
   "file_extension": ".py",
   "mimetype": "text/x-python",
   "name": "python",
   "nbconvert_exporter": "python",
   "pygments_lexer": "ipython3",
   "version": "3.9.7"
  },
  "orig_nbformat": 4
 },
 "nbformat": 4,
 "nbformat_minor": 2
}
