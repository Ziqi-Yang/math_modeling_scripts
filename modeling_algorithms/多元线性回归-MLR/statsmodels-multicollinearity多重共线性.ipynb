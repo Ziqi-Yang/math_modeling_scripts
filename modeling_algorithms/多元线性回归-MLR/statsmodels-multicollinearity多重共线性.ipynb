{
 "cells": [
  {
   "cell_type": "markdown",
   "metadata": {},
   "source": [
    "# 检测\n",
    "\n",
    "## 整体检测\n",
    "\n",
    "`summary`的时候会自行帮我们判断是否有可能多重共线性，见下方代码输出的`notes 2`\n",
    "\n",
    "更多请查看[官网](https://www.statsmodels.org/dev/examples/notebooks/generated/ols.html#Multicollinearity),里面有更详细的方法"
   ]
  },
  {
   "cell_type": "code",
   "execution_count": 3,
   "metadata": {},
   "outputs": [
    {
     "name": "stdout",
     "output_type": "stream",
     "text": [
      "                            OLS Regression Results                            \n",
      "==============================================================================\n",
      "Dep. Variable:                 TOTEMP   R-squared:                       0.995\n",
      "Model:                            OLS   Adj. R-squared:                  0.992\n",
      "Method:                 Least Squares   F-statistic:                     330.3\n",
      "Date:                Sun, 13 Feb 2022   Prob (F-statistic):           4.98e-10\n",
      "Time:                        12:56:02   Log-Likelihood:                -109.62\n",
      "No. Observations:                  16   AIC:                             233.2\n",
      "Df Residuals:                       9   BIC:                             238.6\n",
      "Df Model:                           6                                         \n",
      "Covariance Type:            nonrobust                                         \n",
      "==============================================================================\n",
      "                 coef    std err          t      P>|t|      [0.025      0.975]\n",
      "------------------------------------------------------------------------------\n",
      "const      -3.482e+06    8.9e+05     -3.911      0.004    -5.5e+06   -1.47e+06\n",
      "GNPDEFL       15.0619     84.915      0.177      0.863    -177.029     207.153\n",
      "GNP           -0.0358      0.033     -1.070      0.313      -0.112       0.040\n",
      "UNEMP         -2.0202      0.488     -4.136      0.003      -3.125      -0.915\n",
      "ARMED         -1.0332      0.214     -4.822      0.001      -1.518      -0.549\n",
      "POP           -0.0511      0.226     -0.226      0.826      -0.563       0.460\n",
      "YEAR        1829.1515    455.478      4.016      0.003     798.788    2859.515\n",
      "==============================================================================\n",
      "Omnibus:                        0.749   Durbin-Watson:                   2.559\n",
      "Prob(Omnibus):                  0.688   Jarque-Bera (JB):                0.684\n",
      "Skew:                           0.420   Prob(JB):                        0.710\n",
      "Kurtosis:                       2.434   Cond. No.                     4.86e+09\n",
      "==============================================================================\n",
      "\n",
      "Notes:\n",
      "[1] Standard Errors assume that the covariance matrix of the errors is correctly specified.\n",
      "[2] The condition number is large, 4.86e+09. This might indicate that there are\n",
      "strong multicollinearity or other numerical problems.\n"
     ]
    },
    {
     "name": "stderr",
     "output_type": "stream",
     "text": [
      "C:\\Users\\Zarkli\\anaconda3\\envs\\zarkli\\lib\\site-packages\\scipy\\stats\\stats.py:1541: UserWarning: kurtosistest only valid for n>=20 ... continuing anyway, n=16\n",
      "  warnings.warn(\"kurtosistest only valid for n>=20 ... continuing \"\n"
     ]
    }
   ],
   "source": [
    "import statsmodels.api as sm\n",
    "# The Longley dataset is well known to have high multicollinearity. That is, the exogenous predictors are highly correlated. This is problematic because it can affect the stability of our coefficient estimates as we make minor changes to model specification.\n",
    "from statsmodels.datasets.longley import load_pandas\n",
    "\n",
    "y = load_pandas().endog\n",
    "X = load_pandas().exog\n",
    "X = sm.add_constant(X)\n",
    "\n",
    "ols_model = sm.OLS(y, X)\n",
    "ols_results = ols_model.fit()\n",
    "print(ols_results.summary())"
   ]
  },
  {
   "cell_type": "markdown",
   "metadata": {},
   "source": [
    "## `vif`每个检测\n",
    "\n",
    "如果$vif>10$,那么认为存在`严重多重共线性`\n",
    "\n",
    "下面两个示例都使用了`variance_inflation_factor`,在具体使用时先用`R型公式`得到X,再使用\n",
    "### 示例1"
   ]
  },
  {
   "cell_type": "code",
   "execution_count": 15,
   "metadata": {},
   "outputs": [
    {
     "data": {
      "text/plain": [
       "const    136.875\n",
       "a         22.950\n",
       "b          3.000\n",
       "c         12.950\n",
       "d          3.000\n",
       "dtype: float64"
      ]
     },
     "execution_count": 15,
     "metadata": {},
     "output_type": "execute_result"
    }
   ],
   "source": [
    "from statsmodels.stats.outliers_influence import variance_inflation_factor\n",
    "from statsmodels.tools.tools import add_constant\n",
    "\n",
    "df = pd.DataFrame(\n",
    "    {'a': [1, 1, 2, 3, 4],\n",
    "     'b': [2, 2, 3, 2, 1],\n",
    "     'c': [4, 6, 7, 8, 9],\n",
    "     'd': [4, 3, 4, 5, 4]}\n",
    ")\n",
    "\n",
    "X = add_constant(df)\n",
    "pd.Series([variance_inflation_factor(X.values, i) \n",
    "               for i in range(X.shape[1])], \n",
    "              index=X.columns)\n"
   ]
  },
  {
   "cell_type": "markdown",
   "metadata": {},
   "source": [
    "### 示例二\n",
    "\n",
    "自己做修改下源码(源码就几行),更方便对pandas数据操作  -- [stackoverflow](https://stackoverflow.com/questions/42658379/variance-inflation-factor-in-python)\n",
    "\n",
    "```python\n",
    "def variance_inflation_factors(exog_df):\n",
    "    '''\n",
    "    Parameters\n",
    "    ----------\n",
    "    exog_df : dataframe, (nobs, k_vars)\n",
    "        design matrix with all explanatory variables, as for example used in\n",
    "        regression.\n",
    "\n",
    "    Returns\n",
    "    -------\n",
    "    vif : Series\n",
    "        variance inflation factors\n",
    "    '''\n",
    "    exog_df = add_constant(exog_df)\n",
    "    vifs = pd.Series(\n",
    "        [1 / (1. - OLS(exog_df[col].values, \n",
    "                       exog_df.loc[:, exog_df.columns != col].values).fit().rsquared) \n",
    "         for col in exog_df],\n",
    "        index=exog_df.columns,\n",
    "        name='VIF'\n",
    "    )\n",
    "    return vifs\n",
    "```\n",
    "\n",
    "调用方法:\n",
    "\n",
    "```python\n",
    ">>> variance_inflation_factors(df)\n",
    "const    136.875\n",
    "a         22.950\n",
    "b          3.000\n",
    "c         12.950\n",
    "Name: VIF, dtype: float64\n",
    "```"
   ]
  },
  {
   "cell_type": "markdown",
   "metadata": {},
   "source": [
    "# 解决\n",
    "\n",
    "待续\n",
    "\n",
    "## Forward Selection 向前逐步回归"
   ]
  },
  {
   "cell_type": "markdown",
   "metadata": {},
   "source": [
    "## Backward Elimination 后向逐步回归"
   ]
  }
 ],
 "metadata": {
  "interpreter": {
   "hash": "293bdf3ec75f111204fa16adce40ae542f4470629cedad22e8b5335cf5b00ec3"
  },
  "kernelspec": {
   "display_name": "Python 3.9.7 ('zarkli')",
   "language": "python",
   "name": "python3"
  },
  "language_info": {
   "codemirror_mode": {
    "name": "ipython",
    "version": 3
   },
   "file_extension": ".py",
   "mimetype": "text/x-python",
   "name": "python",
   "nbconvert_exporter": "python",
   "pygments_lexer": "ipython3",
   "version": "3.9.7"
  },
  "orig_nbformat": 4
 },
 "nbformat": 4,
 "nbformat_minor": 2
}
