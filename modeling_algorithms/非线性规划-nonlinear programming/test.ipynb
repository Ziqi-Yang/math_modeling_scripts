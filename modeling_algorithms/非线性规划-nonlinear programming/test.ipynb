{
 "cells": [
  {
   "cell_type": "code",
   "execution_count": 2,
   "metadata": {},
   "outputs": [],
   "source": [
    "from scipy.optimize import minimize\n",
    "import numpy as np"
   ]
  },
  {
   "cell_type": "code",
   "execution_count": 3,
   "metadata": {},
   "outputs": [
    {
     "name": "stdout",
     "output_type": "stream",
     "text": [
      "11.329796332293162\n",
      "True\n",
      "[77.5        20.66666658]\n"
     ]
    }
   ],
   "source": [
    "# 目标函数\n",
    "def fun(a,b,c,d):\n",
    "    def v(x):\n",
    "        return np.log2(1+x[0]*a/b)+np.log2(1+x[1]*c/d)\n",
    "    return v\n",
    "    \n",
    "#限制条件函数\n",
    "def con(a,b,i):\n",
    "    def v(x):\n",
    "        return np.log2(1 + x[i] * a / b)-5\n",
    "    return v\n",
    "\n",
    "# 定义常量值\n",
    "args = [2, 1, 3, 4]  # a,b,c,d\n",
    "args1 = [2, 5, 6, 4] \n",
    "\n",
    "# 设置初始猜测值\n",
    "x0 = np.asarray((0.5, 0.5))\n",
    "\n",
    "#设置限制条件\n",
    "cons = ({'type': 'ineq', 'fun': con(args1[0],args1[1],0)},\n",
    "        {'type': 'ineq', 'fun': con(args1[2],args1[3],1)},\n",
    "        )\n",
    "\n",
    "res = minimize(fun(*args), x0, constraints=cons)\n",
    "print(res.fun)\n",
    "print(res.success)\n",
    "print(res.x)"
   ]
  }
 ],
 "metadata": {
  "interpreter": {
   "hash": "293bdf3ec75f111204fa16adce40ae542f4470629cedad22e8b5335cf5b00ec3"
  },
  "kernelspec": {
   "display_name": "Python 3.9.7 ('zarkli')",
   "language": "python",
   "name": "python3"
  },
  "language_info": {
   "codemirror_mode": {
    "name": "ipython",
    "version": 3
   },
   "file_extension": ".py",
   "mimetype": "text/x-python",
   "name": "python",
   "nbconvert_exporter": "python",
   "pygments_lexer": "ipython3",
   "version": "3.9.7"
  },
  "orig_nbformat": 4
 },
 "nbformat": 4,
 "nbformat_minor": 2
}
